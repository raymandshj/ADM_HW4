{
  "nbformat": 4,
  "nbformat_minor": 0,
  "metadata": {
    "colab": {
      "provenance": [],
      "authorship_tag": "ABX9TyMT+8/W1+iKJ2AIuRFrbEkZ"
    },
    "kernelspec": {
      "name": "python3",
      "display_name": "Python 3"
    },
    "language_info": {
      "name": "python"
    }
  },
  "cells": [
    {
      "cell_type": "code",
      "execution_count": null,
      "metadata": {
        "id": "sB5nb9qdN3RL"
      },
      "outputs": [],
      "source": [
        "import numpy as np"
      ]
    },
    {
      "cell_type": "code",
      "source": [
        "def control(N,M,G,lis):\n",
        "  lista=lis\n",
        "  #the 'entr' array counts the number of students entering from the i-th entrance\n",
        "  #(position 0 does not correspond to any entrance so no students will enter from there)\n",
        "  entr=np.zeros(N+1)\n",
        "  for i in range(N+1):\n",
        "    entr[i]=lista.count(i)\n",
        "  #'o' counts the number of guards that are needed at the time\n",
        "  o=0\n",
        "  #'entr2' is a vector that in the i-th position reports the number of students who entered from the i-th entrance\n",
        "  entr2=np.zeros(N+1)\n",
        "  for i in range(len(lista)):\n",
        "    entr2[int(lista[i])]+=1\n",
        "    if (entr2[int(lista[i])]==1):\n",
        "      o+=1 #if the current student is the first to enter from the corresponding entrance then increase the number of guards needed by 1\n",
        "    #'elif' because it might happen that if there is only one student entering from an entrance this will be both the first and the last\n",
        "    elif (entr2[int(lista[i])]==entr[int(lista[i])]):\n",
        "      o-=1 #if the current student is the last to enter from the corresponding entrance then decrease the number of guards needed by 1\n",
        "    #if o>G the number of guards is not enough\n",
        "    if (o>G):\n",
        "      return 'NO'\n",
        "    #the case where for an entry there is only one student is not considered by the previous conditions, for this reason I successively decrease 'o'\n",
        "    if entr[int(lista[i])]==1:\n",
        "      o-=1  \n",
        "  return 'YES'      "
      ],
      "metadata": {
        "id": "eXaEiof7N75C"
      },
      "execution_count": 51,
      "outputs": []
    }
  ]
}